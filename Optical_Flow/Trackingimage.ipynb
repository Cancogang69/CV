{
  "nbformat": 4,
  "nbformat_minor": 0,
  "metadata": {
    "colab": {
      "provenance": [],
      "gpuType": "T4"
    },
    "kernelspec": {
      "name": "python3",
      "display_name": "Python 3"
    },
    "language_info": {
      "name": "python"
    },
    "accelerator": "GPU",
    "gpuClass": "standard"
  },
  "cells": [
    {
      "cell_type": "code",
      "source": [
        "from google.colab import drive\n",
        "drive.mount('/content/drive')"
      ],
      "metadata": {
        "colab": {
          "base_uri": "https://localhost:8080/"
        },
        "id": "Gbf0DjxVKHU7",
        "outputId": "dd1601b9-3abe-427c-abae-6aed82020fa3"
      },
      "execution_count": 1,
      "outputs": [
        {
          "output_type": "stream",
          "name": "stdout",
          "text": [
            "Mounted at /content/drive\n"
          ]
        }
      ]
    },
    {
      "cell_type": "code",
      "source": [
        "import cv2\n",
        "import os\n",
        "import numpy as np\n",
        "from google.colab.patches import cv2_imshow"
      ],
      "metadata": {
        "id": "Qux7o4zBL5vD"
      },
      "execution_count": 2,
      "outputs": []
    },
    {
      "cell_type": "code",
      "source": [
        "def calculatef1(path_folder):\n",
        "  gt_file = [file for file in os.listdir(path_folder) if file.endswith(\"_gt.txt\")][0]\n",
        "  frame_file = [file for file in os.listdir(path_folder) if file.endswith(\"_frames.txt\")][0]\n",
        "  with open(os.path.join(path_folder, frame_file), 'r') as file:\n",
        "        frame_line = file.read()\n",
        "  frame_list = [int(x) for x in frame_line.split(\",\")]\n",
        "  with open(os.path.join(path_folder, gt_file), 'r') as file:\n",
        "        lines = file.readlines()\n",
        "  picture_paths =[]\n",
        "  for picture in os.listdir(os.path.join(path_folder,\"img\")):\n",
        "    if not picture.endswith(\".jpg\"):\n",
        "      continue\n",
        "    if frame_list[0]<=int(picture.split(\".\")[0])<=frame_list[1]:\n",
        "      picture_paths.append(os.path.join(path_folder,\"img\",picture))\n",
        "  frame = cv2.imread(picture_paths[0])\n",
        "  prev_gray = cv2.cvtColor(frame, cv2.COLOR_BGR2GRAY)\n",
        "  prev_pts = cv2.goodFeaturesToTrack(prev_gray, maxCorners=100, qualityLevel=0.3, minDistance=7, blockSize=7)\n",
        "\n",
        "  # Create a mask image for drawing purposes\n",
        "  mask = np.zeros_like(frame)\n",
        "\n",
        "  # Initialize variables for IoU calculation\n",
        "  true_positive = 0\n",
        "  false_positive = 0\n",
        "  false_negative = 0\n",
        "  i=0\n",
        "  bbox = [int(x) for x in lines[0].split(\",\")]\n",
        "  for picture in picture_paths:\n",
        "    frame = cv2.imread(picture)\n",
        "    # Convert the current frame to grayscale\n",
        "    gray = cv2.cvtColor(frame, cv2.COLOR_BGR2GRAY)\n",
        "    \n",
        "    # Calculate optical flow\n",
        "    curr_pts, status, err = cv2.calcOpticalFlowPyrLK(prev_gray, gray, prev_pts, None)\n",
        "    \n",
        "    # Select good points for tracking\n",
        "    if curr_pts is not None and len(curr_pts) > 0:\n",
        "            good_new = curr_pts[status == 1]\n",
        "            good_old = prev_pts[status == 1]\n",
        "\n",
        "            # Estimate the motion vector\n",
        "            if len(good_new) > 0 and len(good_old) > 0:\n",
        "                # Estimate the motion vector\n",
        "                motion_vector = np.mean(good_new - good_old, axis=0)\n",
        "\n",
        "                # Update the bounding box position based on the motion vector\n",
        "                x, y, w, h = bbox\n",
        "                motion_vector = motion_vector.astype(int)\n",
        "                scaling_factor = 0.1\n",
        "                motion_vector_scaled = [v * scaling_factor for v in motion_vector]\n",
        "                bbox = (int(x + motion_vector_scaled[0]), int(y + motion_vector_scaled[1]), w, h)\n",
        "           \n",
        "    else:\n",
        "            pass      \n",
        "    # Compute ground truth bounding box for the current frame\n",
        "    # (You can manually specify or use an object detection algorithm)\n",
        "    # gt_bbox = [xmin, ymin, xmax, ymax]\n",
        "    gt_bbox = [int(float(x)) for x in lines[i].split(\",\")]\n",
        "    # Compute predicted bounding box based on the tracked points\n",
        "    # pred_bbox = [xmin, ymin, xmax, ymax]\n",
        "    pred_bbox = bbox\n",
        "    # Compute IoU\n",
        "    intersection_area = max(0, abs(min(pred_bbox[2], gt_bbox[2]) - max(pred_bbox[0], gt_bbox[0]))) * \\\n",
        "                           max(0, abs(min(pred_bbox[3], gt_bbox[3]) - max(pred_bbox[1], gt_bbox[1])))\n",
        "    union_area = abs(pred_bbox[2] - pred_bbox[0]) * abs(pred_bbox[3] - pred_bbox[1]) + \\\n",
        "                     abs(gt_bbox[2] - gt_bbox[0]) * abs(gt_bbox[3] - gt_bbox[1]) -intersection_area\n",
        "\n",
        "    if union_area != 0:\n",
        "            iou = intersection_area / union_area\n",
        "    else:\n",
        "            iou = 0\n",
        "    # Update true positive, false positive, and false negative counts\n",
        "    if iou >= 0.5:\n",
        "        true_positive += 1\n",
        "    else:\n",
        "        false_positive += 1\n",
        "        false_negative += 1\n",
        "           \n",
        "    # Update previous frame and points\n",
        "    prev_gray = gray.copy()\n",
        "    prev_pts = good_new.reshape(-1, 1, 2)\n",
        "    i=i+1\n",
        "  precision = true_positive / (true_positive + false_positive)\n",
        "  recall = true_positive / (true_positive + false_negative)\n",
        "  f1_score = 2 * (precision * recall) / (precision + recall)\n",
        "  return f1_score\n"
      ],
      "metadata": {
        "id": "qWqo0shfTpB6"
      },
      "execution_count": 7,
      "outputs": []
    },
    {
      "cell_type": "code",
      "execution_count": 8,
      "metadata": {
        "id": "UJUAOcRHKEWW"
      },
      "outputs": [],
      "source": [
        "folder_path = \"/content/drive/MyDrive/CV\"\n",
        "folder_paths = []\n",
        "for folder in os.listdir(folder_path):\n",
        "    folder_paths.append(os.path.join(folder_path, folder,folder))\n",
        "accuracy = 0\n",
        "for files in folder_paths:\n",
        "  accuracy+=calculatef1(files) \n"
      ]
    },
    {
      "cell_type": "code",
      "source": [
        "accuracy /=len(folder_paths)"
      ],
      "metadata": {
        "id": "Ylh5W-6cJe_j"
      },
      "execution_count": 9,
      "outputs": []
    },
    {
      "cell_type": "code",
      "source": [
        "print(accuracy)"
      ],
      "metadata": {
        "colab": {
          "base_uri": "https://localhost:8080/"
        },
        "id": "D42TtA9SJjWh",
        "outputId": "b7207f35-9267-4e87-c4ee-87b7eda661c0"
      },
      "execution_count": 10,
      "outputs": [
        {
          "output_type": "stream",
          "name": "stdout",
          "text": [
            "0.7655691398814122\n"
          ]
        }
      ]
    }
  ]
}